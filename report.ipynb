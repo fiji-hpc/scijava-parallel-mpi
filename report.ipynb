{
 "cells": [
  {
   "cell_type": "code",
   "execution_count": null,
   "metadata": {},
   "outputs": [],
   "source": [
    "import os\n",
    "import re\n",
    "import glob\n",
    "import pandas as pd\n",
    "import numpy as np\n",
    "import matplotlib.pyplot as plt\n",
    "from IPython.display import HTML, Markdown\n",
    "\n",
    "\n",
    "result = 'latest'\n",
    "#result = '2020_01_30_12_40_30'\n",
    "\n",
    "base_dir = f'salomon/outputs/{result}/'\n",
    "#base_dir = f'run/outputs/{result}/'\n",
    "\n",
    "base_dir = os.getenv('B_RESULT_DIR', base_dir)\n",
    "data = pd.read_csv(os.path.join(base_dir, \"stats.csv\"), names=['stat', 'rank', 'size', 'round', 'time_ms'])\n",
    "#data = data[data['round'] != 0]\n",
    "data"
   ]
  },
  {
   "cell_type": "code",
   "execution_count": null,
   "metadata": {},
   "outputs": [],
   "source": [
    "display(HTML('<h1>' + os.path.basename(os.path.realpath(base_dir)) + '</h1>'))\n",
    "with open(os.path.join(base_dir, 'info')) as f:\n",
    "    display(HTML(f'<pre>{f.read()}</pre>'))\n",
    "try:\n",
    "    with open(os.path.join(base_dir, 'env')) as f:\n",
    "        display(HTML(f'<pre>{f.read()}</pre>'))\n",
    "except FileNotFoundError:\n",
    "    pass"
   ]
  },
  {
   "cell_type": "markdown",
   "metadata": {},
   "source": [
    "## stdout"
   ]
  },
  {
   "cell_type": "code",
   "execution_count": null,
   "metadata": {},
   "outputs": [],
   "source": [
    "def format_md(s):\n",
    "    s = re.sub(r'^###(.+)', lambda r: f'</pre><h3>{r.group(1)}</h3><pre>', s, flags=re.MULTILINE)\n",
    "    s = re.sub(r'^##(.+)', lambda r: f'</pre><h2>{r.group(1)}</h2><pre>', s, flags=re.MULTILINE)\n",
    "    return f\"<pre>{s}</pre>\"\n",
    "    \n",
    "\n",
    "with open(os.path.join(base_dir, 'out')) as f:\n",
    "    display(Markdown(format_md(f.read())))"
   ]
  },
  {
   "cell_type": "markdown",
   "metadata": {},
   "source": [
    "## Result md5sum"
   ]
  },
  {
   "cell_type": "code",
   "execution_count": null,
   "metadata": {},
   "outputs": [],
   "source": [
    "try:\n",
    "    with open(os.path.join(base_dir, 'checksums')) as f:\n",
    "        display(HTML(f'<pre>{f.read()}</pre>'))\n",
    "except FileNotFoundError:\n",
    "    pass"
   ]
  },
  {
   "cell_type": "markdown",
   "metadata": {},
   "source": [
    "## Result images"
   ]
  },
  {
   "cell_type": "code",
   "execution_count": null,
   "metadata": {},
   "outputs": [],
   "source": [
    "from IPython.display import Image\n",
    "for path in sorted(glob.glob(os.path.join(base_dir, \"**/*.thumbnail*.png\"), recursive=True)):\n",
    "    display(HTML(f\"<h3>{os.path.basename(os.path.dirname(path))} nodes</h3>\"))\n",
    "    display(Image(filename=path))"
   ]
  },
  {
   "cell_type": "markdown",
   "metadata": {},
   "source": [
    "## Execution stats"
   ]
  },
  {
   "cell_type": "code",
   "execution_count": null,
   "metadata": {},
   "outputs": [],
   "source": [
    "def stats(stat):    \n",
    "    display(HTML(f\"<h1>{stat}</h1>\"))\n",
    "    overview = data[data['stat'] == stat].pivot_table(index=['size', 'round'], columns='rank', values='time_ms')\n",
    "    display(overview)\n",
    "    \n",
    "    mean_per_node = data[data['stat'] == stat].pivot_table(index=['size'], columns='rank', values='time_ms')\n",
    "    display(mean_per_node)\n",
    "    g = mean_per_node.T.mean().plot.bar(title=f'{stat} execution mean time')\n",
    "    g.set_ylabel('time [ms]')\n",
    "    g.set_xlabel('total nodes')\n",
    "    plt.show()\n",
    "    \n",
    "    global_mean = mean_per_node.T.quantile(.5)\n",
    "    if 1 in global_mean:\n",
    "        global_mean = global_mean[1] / global_mean\n",
    "        g = plt.plot(global_mean, linestyle='none', marker='o')\n",
    "        plt.title(f'{stat} speedup')\n",
    "        plt.ylabel('speedup')\n",
    "        plt.xlabel('total nodes')\n",
    "        x = np.linspace(1, max(global_mean.index))\n",
    "        plt.plot(x, x)\n",
    "        plt.show()\n",
    "#stats('convolution')"
   ]
  },
  {
   "cell_type": "code",
   "execution_count": null,
   "metadata": {},
   "outputs": [],
   "source": [
    "for stat in data['stat'].unique():\n",
    "    stats(stat)"
   ]
  },
  {
   "cell_type": "markdown",
   "metadata": {},
   "source": [
    "## Execution time without IO"
   ]
  },
  {
   "cell_type": "code",
   "execution_count": null,
   "metadata": {},
   "outputs": [],
   "source": [
    "convolution = data[data['stat'] == 'convolution'].pivot_table(index=['size'], columns='rank', values='time_ms')\n",
    "gather = data[data['stat'] == 'gather'].pivot_table(index=['size'], columns='rank', values='time_ms')\n",
    "total = (convolution + gather).T.mean()\n",
    "\n",
    "speedup = total[1] / total\n",
    "display(pd.DataFrame({'time_ms': total, 'speedup': speedup}))\n",
    "plt.plot(speedup, linestyle='none', marker='o')\n",
    "plt.title(f'speedup without IO')\n",
    "plt.ylabel('speedup')\n",
    "plt.xlabel('total nodes')\n",
    "x = np.linspace(1, max(speedup.index))\n",
    "plt.plot(x, x)\n",
    "plt.show()"
   ]
  }
 ],
 "metadata": {
  "kernelspec": {
   "display_name": "Python 3",
   "language": "python",
   "name": "python3"
  },
  "language_info": {
   "codemirror_mode": {
    "name": "ipython",
    "version": 3
   },
   "file_extension": ".py",
   "mimetype": "text/x-python",
   "name": "python",
   "nbconvert_exporter": "python",
   "pygments_lexer": "ipython3",
   "version": "3.8.1"
  }
 },
 "nbformat": 4,
 "nbformat_minor": 4
}
