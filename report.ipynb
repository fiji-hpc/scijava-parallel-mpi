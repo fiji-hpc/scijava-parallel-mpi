{
 "cells": [
  {
   "cell_type": "code",
   "execution_count": null,
   "metadata": {},
   "outputs": [],
   "source": [
    "import os\n",
    "import glob\n",
    "import pandas as pd\n",
    "import numpy as np\n",
    "import matplotlib.pyplot as plt\n",
    "from IPython.display import HTML\n",
    "\n",
    "#result = '2020_01_24_01_11_39'\n",
    "#result = '2020_01_25_05_00_12'\n",
    "#result = '2020_01_25_06_58_19'\n",
    "result = 'latest'\n",
    "\n",
    "#base_dir = f'salomon/{result}/'\n",
    "base_dir = f'run/outputs/{result}/'\n",
    "\n",
    "base_dir = os.getenv('B_RESULT_DIR', base_dir)\n",
    "data = pd.read_csv(os.path.join(base_dir, \"stats.csv\"), names=['stat', 'rank', 'size', 'round', 'time_ms'])"
   ]
  },
  {
   "cell_type": "code",
   "execution_count": null,
   "metadata": {},
   "outputs": [],
   "source": [
    "display(HTML('<h1>' + os.path.basename(os.path.realpath(base_dir)) + '</h1>'))\n",
    "with open(os.path.join(base_dir, 'info')) as f:\n",
    "    display(HTML(f'<pre>{f.read()}</pre>'))\n",
    "try:\n",
    "    with open(os.path.join(base_dir, 'env')) as f:\n",
    "        display(HTML(f'<pre>{f.read()}</pre>'))\n",
    "except FileNotFoundError:\n",
    "    pass"
   ]
  },
  {
   "cell_type": "code",
   "execution_count": null,
   "metadata": {},
   "outputs": [],
   "source": [
    "with open(os.path.join(base_dir, 'out')) as f:\n",
    "    display(HTML(f'<pre>{f.read()}</pre>'))"
   ]
  },
  {
   "cell_type": "code",
   "execution_count": null,
   "metadata": {},
   "outputs": [],
   "source": [
    "with open(os.path.join(base_dir, 'checksums')) as f:\n",
    "    display(HTML(f'<pre>{f.read()}</pre>'))"
   ]
  },
  {
   "cell_type": "code",
   "execution_count": null,
   "metadata": {},
   "outputs": [],
   "source": [
    "from IPython.display import Image\n",
    "for path in glob.glob(os.path.join(base_dir, \"**/*.thumbnail.png\"), recursive=True):\n",
    "    print(path)\n",
    "    display(Image(filename=path))"
   ]
  },
  {
   "cell_type": "code",
   "execution_count": null,
   "metadata": {},
   "outputs": [],
   "source": [
    "for stat in data['stat'].unique():\n",
    "    display(HTML(f\"<h1>{stat}</h1>\"))\n",
    "    overview = data[data['stat'] == stat].pivot_table(index=['size', 'round'], columns='rank', values='time_ms')\n",
    "    display(overview)\n",
    "    \n",
    "    mean_per_node = data[data['stat'] == stat].pivot_table(index=['size'], columns='rank', values='time_ms')\n",
    "    display(mean_per_node)\n",
    "    mean_per_node.T.mean().plot.bar()\n",
    "    plt.show()\n",
    "    \n",
    "    global_mean = mean_per_node.T.mean()\n",
    "    if 1 in global_mean:\n",
    "        global_mean = global_mean[1] / global_mean\n",
    "        plt.plot(global_mean, linestyle='none', marker='o')\n",
    "        x = np.linspace(1, len(global_mean))\n",
    "        plt.plot(x, x)\n",
    "        plt.show()"
   ]
  },
  {
   "cell_type": "code",
   "execution_count": null,
   "metadata": {},
   "outputs": [],
   "source": [
    "convolution = data[data['stat'] == 'convolution'].pivot_table(index=['size'], columns='rank', values='time_ms')\n",
    "gather = data[data['stat'] == 'gather'].pivot_table(index=['size'], columns='rank', values='time_ms')\n",
    "total = (convolution + gather).T.mean()\n",
    "\n",
    "display(total)\n",
    "\n",
    "speedup = total[1] / total\n",
    "plt.plot(speedup, linestyle='none', marker='o')\n",
    "x = np.linspace(1, len(speedup))\n",
    "plt.plot(x, x)\n",
    "plt.show()"
   ]
  }
 ],
 "metadata": {
  "kernelspec": {
   "display_name": "Python 3",
   "language": "python",
   "name": "python3"
  },
  "language_info": {
   "codemirror_mode": {
    "name": "ipython",
    "version": 3
   },
   "file_extension": ".py",
   "mimetype": "text/x-python",
   "name": "python",
   "nbconvert_exporter": "python",
   "pygments_lexer": "ipython3",
   "version": "3.8.1"
  }
 },
 "nbformat": 4,
 "nbformat_minor": 4
}
